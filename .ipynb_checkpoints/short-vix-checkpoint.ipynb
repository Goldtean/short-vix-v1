{
 "cells": [
  {
   "cell_type": "markdown",
   "metadata": {
    "collapsed": true
   },
   "source": [
    "# Disclaimer: THIS IS NOT INVESTMENT ADVICE"
   ]
  },
  {
   "cell_type": "markdown",
   "metadata": {},
   "source": [
    "\n",
    "# The following is a Python script based on the following article:\n",
    "\n",
    "# https://seekingalpha.com/instablog/5806521-macro-investor/3028385-new-svxy-strategy \n",
    "\n",
    "## The writer of the article is Macro Investor, and all credit (or blame ;-) ) should go to him\n",
    "\n",
    "## The gist of the strategy is this: shorting futures when in contango and going long in backwardation equals money. VIX futures are mostly in contango, and extremely volatile. Giddy up."
   ]
  },
  {
   "cell_type": "code",
   "execution_count": 1,
   "metadata": {
    "collapsed": true
   },
   "outputs": [],
   "source": [
    "import pandas as pd"
   ]
  },
  {
   "cell_type": "code",
   "execution_count": 2,
   "metadata": {
    "collapsed": false
   },
   "outputs": [],
   "source": [
    "vx = pd.read_csv('YAHOO-INDEX_VIX.csv')"
   ]
  },
  {
   "cell_type": "code",
   "execution_count": 3,
   "metadata": {
    "collapsed": true
   },
   "outputs": [],
   "source": [
    "vx1 = pd.read_csv('CHRIS-CBOE_VX1.csv')"
   ]
  },
  {
   "cell_type": "code",
   "execution_count": 4,
   "metadata": {
    "collapsed": true
   },
   "outputs": [],
   "source": [
    "vx2 = pd.read_csv('CHRIS-CBOE_VX2.csv')"
   ]
  },
  {
   "cell_type": "markdown",
   "metadata": {},
   "source": [
    "## Quandl has an open API which is where the CSV files above were downloaded from. Grab the latest ones below."
   ]
  },
  {
   "cell_type": "code",
   "execution_count": 5,
   "metadata": {
    "collapsed": true
   },
   "outputs": [],
   "source": [
    "# vx = pd.read_csv('https://www.quandl.com/api/v3/datasets/YAHOO/INDEX_VIX.csv')\n",
    "# vx1 = pd.read_csv('https://www.quandl.com/api/v1/datasets/CHRIS/CBOE_VX1.csv')\n",
    "# vx2 = pd.read_csv('https://www.quandl.com/api/v1/datasets/CHRIS/CBOE_VX2.csv')"
   ]
  },
  {
   "cell_type": "code",
   "execution_count": 6,
   "metadata": {
    "collapsed": false
   },
   "outputs": [
    {
     "name": "stdout",
     "output_type": "stream",
     "text": [
      "6901\n",
      "2999\n",
      "2894\n"
     ]
    }
   ],
   "source": [
    "# The length of each dataset is not the same. We don't care for now, because we just want the closing value\n",
    "# but we do care, because they are not all up to date, so not all starting dates are the same. :-/\n",
    "# I don't have a solution for this yet, but I am working on it. See below.\n",
    "print(len(vx))\n",
    "print(len(vx1))\n",
    "print(len(vx2))"
   ]
  },
  {
   "cell_type": "markdown",
   "metadata": {
    "collapsed": false
   },
   "source": [
    "# From the article:\n",
    "## Step 1. Define R = average(F1/V,F2/F1) - 1 where\n",
    "## V = VIX\n",
    "## F1 = first month future\n",
    "## F2 = second month future"
   ]
  },
  {
   "cell_type": "code",
   "execution_count": 7,
   "metadata": {
    "collapsed": false
   },
   "outputs": [
    {
     "data": {
      "text/plain": [
       "12.039999999999999"
      ]
     },
     "execution_count": 7,
     "metadata": {},
     "output_type": "execute_result"
    }
   ],
   "source": [
    "# V = VIX\n",
    "def v():\n",
    "    vix = vx[\"Close\"][0]\n",
    "    return vix\n",
    "\n",
    "v()"
   ]
  },
  {
   "cell_type": "code",
   "execution_count": 8,
   "metadata": {
    "collapsed": false
   },
   "outputs": [
    {
     "data": {
      "text/plain": [
       "12.199999999999999"
      ]
     },
     "execution_count": 8,
     "metadata": {},
     "output_type": "execute_result"
    }
   ],
   "source": [
    "# F1 = first month future\n",
    "def f1():\n",
    "    vix = vx1[\"Close\"][0]\n",
    "    return vix\n",
    "\n",
    "f1()"
   ]
  },
  {
   "cell_type": "code",
   "execution_count": 9,
   "metadata": {
    "collapsed": false
   },
   "outputs": [
    {
     "data": {
      "text/plain": [
       "14.25"
      ]
     },
     "execution_count": 9,
     "metadata": {},
     "output_type": "execute_result"
    }
   ],
   "source": [
    "# F2 = second month future\n",
    "def f2():\n",
    "    vix = vx2[\"Close\"][0]\n",
    "    return vix\n",
    "\n",
    "f2()"
   ]
  },
  {
   "cell_type": "code",
   "execution_count": 10,
   "metadata": {
    "collapsed": false
   },
   "outputs": [
    {
     "data": {
      "text/plain": [
       "0.090660911715048309"
      ]
     },
     "execution_count": 10,
     "metadata": {},
     "output_type": "execute_result"
    }
   ],
   "source": [
    "# Define R = average(F1/V,F2/F1) - 1\n",
    "def r():\n",
    "    #f1/v\n",
    "    av1 = f1() / v()\n",
    "    #f2/f1\n",
    "    av2 = f2() / f1()\n",
    "    avg = (av1 + av2) / 2\n",
    "    # Define R = average(F1/V,F2/F1) - 1    \n",
    "    define_r = avg - 1\n",
    "    return define_r\n",
    "r()"
   ]
  },
  {
   "cell_type": "markdown",
   "metadata": {
    "collapsed": false
   },
   "source": [
    "# From the article:\n",
    "## Step 2. Calculate average R from inception to date"
   ]
  },
  {
   "cell_type": "code",
   "execution_count": 11,
   "metadata": {
    "collapsed": true
   },
   "outputs": [],
   "source": [
    "# To use comparable numbers, take the first 2556 rows of each column.\n",
    "vxs = vx.head(2556)\n",
    "vxs1 = vx1.head(2556)\n",
    "vxs2 = vx2.head(2556)"
   ]
  },
  {
   "cell_type": "code",
   "execution_count": 12,
   "metadata": {
    "collapsed": false
   },
   "outputs": [
    {
     "data": {
      "text/plain": [
       "20.588559675538161"
      ]
     },
     "execution_count": 12,
     "metadata": {},
     "output_type": "execute_result"
    }
   ],
   "source": [
    "# Historical V\n",
    "def spot_vix_close_avg():\n",
    "    c = vxs[\"Close\"]\n",
    "    c_len = len(c) - 1\n",
    "    c_sum = c.sum()\n",
    "    c_av = c_sum / float(c_len)\n",
    "    return c_av\n",
    "    \n",
    "spot_vix_close_avg()"
   ]
  },
  {
   "cell_type": "code",
   "execution_count": 13,
   "metadata": {
    "collapsed": false
   },
   "outputs": [
    {
     "data": {
      "text/plain": [
       "21.088191780821919"
      ]
     },
     "execution_count": 13,
     "metadata": {},
     "output_type": "execute_result"
    }
   ],
   "source": [
    "# Historical F1\n",
    "def front_month_close_avg():\n",
    "    c = vxs1[\"Close\"]\n",
    "    c_len = len(c) - 1\n",
    "    c_sum = c.sum()\n",
    "    c_av = c_sum / float(c_len)\n",
    "    return c_av\n",
    "\n",
    "front_month_close_avg()"
   ]
  },
  {
   "cell_type": "code",
   "execution_count": 14,
   "metadata": {
    "collapsed": false
   },
   "outputs": [
    {
     "data": {
      "text/plain": [
       "21.874904109589039"
      ]
     },
     "execution_count": 14,
     "metadata": {},
     "output_type": "execute_result"
    }
   ],
   "source": [
    "# Historical F2\n",
    "def second_month_close_avg():\n",
    "    c = vxs2[\"Close\"]\n",
    "    c_len = len(c) - 1\n",
    "    c_sum = c.sum()\n",
    "    c_av = c_sum / float(c_len)\n",
    "    return c_av\n",
    "\n",
    "second_month_close_avg()"
   ]
  },
  {
   "cell_type": "code",
   "execution_count": 15,
   "metadata": {
    "collapsed": false
   },
   "outputs": [
    {
     "data": {
      "text/plain": [
       "0.030786642379225793"
      ]
     },
     "execution_count": 15,
     "metadata": {},
     "output_type": "execute_result"
    }
   ],
   "source": [
    "def historical_r():\n",
    "    # f1/v\n",
    "    av1 = front_month_close_avg() / spot_vix_close_avg()\n",
    "    # f2/f1    \n",
    "    av2 = second_month_close_avg() / front_month_close_avg()\n",
    "    avg = (av1 + av2) / 2\n",
    "    define_r = avg - 1\n",
    "    return define_r\n",
    "\n",
    "historical_r()"
   ]
  },
  {
   "cell_type": "code",
   "execution_count": 17,
   "metadata": {
    "collapsed": false
   },
   "outputs": [
    {
     "name": "stdout",
     "output_type": "stream",
     "text": [
      "Invest in SVXY\n"
     ]
    }
   ],
   "source": [
    "# Step 3. Invest in SVXY if current R > -1 * average historical R, invest in UVXY otherwise\n",
    "if (r() > (-1 * historical_r())):\n",
    "    print(\"Invest in SVXY\")\n",
    "else:\n",
    "    print(\"Invest in UVXY\")"
   ]
  },
  {
   "cell_type": "markdown",
   "metadata": {
    "collapsed": true
   },
   "source": [
    "# My next step is to use real time Interactive Brokers data to calculate the variables. Tune in next time!"
   ]
  }
 ],
 "metadata": {
  "kernelspec": {
   "display_name": "Python 3",
   "language": "python",
   "name": "python3"
  },
  "language_info": {
   "codemirror_mode": {
    "name": "ipython",
    "version": 3
   },
   "file_extension": ".py",
   "mimetype": "text/x-python",
   "name": "python",
   "nbconvert_exporter": "python",
   "pygments_lexer": "ipython3",
   "version": "3.5.2"
  }
 },
 "nbformat": 4,
 "nbformat_minor": 2
}
